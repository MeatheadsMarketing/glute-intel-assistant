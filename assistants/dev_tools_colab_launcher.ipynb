# Colab Loader Notebook: assistant_colab_loader.ipynb (Python script version for creation)

from google.colab import drive
import os
import shutil

# 1. Mount Google Drive
drive.mount('/content/drive')

# 2. Set working directory (update as needed)
base_dir = "/content/drive/MyDrive/Glute_AI_Assistant"
os.makedirs(base_dir, exist_ok=True)
os.chdir(base_dir)

# 3. Clone your repo or manually upload zip
print("Place your assistant repo ZIP here or clone from GitHub")

# Optional: clone from GitHub
# !git clone https://github.com/your-username/your-repo.git

# 4. Install dependencies
!pip install -q openai streamlit pydrive2 transformers matplotlib pandas

# 5. Create folders if missing
os.makedirs("data", exist_ok=True)
os.makedirs("uploads", exist_ok=True)

# 6. Test assistant module
from assistants.plan_generator import generate_glute_plan
print(generate_glute_plan(["Bubble", "Upper Shelf"]))

